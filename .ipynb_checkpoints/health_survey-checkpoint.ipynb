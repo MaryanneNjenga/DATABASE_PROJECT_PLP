{
 "cells": [
  {
   "cell_type": "code",
   "execution_count": 36,
   "metadata": {},
   "outputs": [],
   "source": [
    "link = \"https://www.kaggle.com/datasets/anth7310/mental-health-in-the-tech-industry/data\""
   ]
  },
  {
   "cell_type": "code",
   "execution_count": 37,
   "metadata": {},
   "outputs": [],
   "source": [
    "import pandas as pd\n",
    "import sqlite3\n",
    "import matplotlib.pyplot as plt"
   ]
  },
  {
   "cell_type": "code",
   "execution_count": 38,
   "metadata": {},
   "outputs": [],
   "source": [
    "conn = sqlite3.connect('mental_health.sqlite')"
   ]
  },
  {
   "cell_type": "code",
   "execution_count": 39,
   "metadata": {},
   "outputs": [],
   "source": [
    "q = \"SELECT * FROM Question\"\n",
    "\n",
    "df_question = pd.read_sql_query(q, conn)"
   ]
  },
  {
   "cell_type": "code",
   "execution_count": 40,
   "metadata": {},
   "outputs": [
    {
     "data": {
      "text/html": [
       "<div>\n",
       "<style scoped>\n",
       "    .dataframe tbody tr th:only-of-type {\n",
       "        vertical-align: middle;\n",
       "    }\n",
       "\n",
       "    .dataframe tbody tr th {\n",
       "        vertical-align: top;\n",
       "    }\n",
       "\n",
       "    .dataframe thead th {\n",
       "        text-align: right;\n",
       "    }\n",
       "</style>\n",
       "<table border=\"1\" class=\"dataframe\">\n",
       "  <thead>\n",
       "    <tr style=\"text-align: right;\">\n",
       "      <th></th>\n",
       "      <th>questiontext</th>\n",
       "      <th>questionid</th>\n",
       "    </tr>\n",
       "  </thead>\n",
       "  <tbody>\n",
       "    <tr>\n",
       "      <th>0</th>\n",
       "      <td>What is your age?</td>\n",
       "      <td>1</td>\n",
       "    </tr>\n",
       "    <tr>\n",
       "      <th>1</th>\n",
       "      <td>What is your gender?</td>\n",
       "      <td>2</td>\n",
       "    </tr>\n",
       "    <tr>\n",
       "      <th>2</th>\n",
       "      <td>What country do you live in?</td>\n",
       "      <td>3</td>\n",
       "    </tr>\n",
       "    <tr>\n",
       "      <th>3</th>\n",
       "      <td>If you live in the United States, which state ...</td>\n",
       "      <td>4</td>\n",
       "    </tr>\n",
       "    <tr>\n",
       "      <th>4</th>\n",
       "      <td>Are you self-employed?</td>\n",
       "      <td>5</td>\n",
       "    </tr>\n",
       "  </tbody>\n",
       "</table>\n",
       "</div>"
      ],
      "text/plain": [
       "                                        questiontext  questionid\n",
       "0                                  What is your age?           1\n",
       "1                               What is your gender?           2\n",
       "2                       What country do you live in?           3\n",
       "3  If you live in the United States, which state ...           4\n",
       "4                             Are you self-employed?           5"
      ]
     },
     "execution_count": 40,
     "metadata": {},
     "output_type": "execute_result"
    }
   ],
   "source": [
    "df_question.head()"
   ]
  },
  {
   "cell_type": "code",
   "execution_count": 41,
   "metadata": {},
   "outputs": [
    {
     "name": "stdout",
     "output_type": "stream",
     "text": [
      "<class 'pandas.core.frame.DataFrame'>\n",
      "RangeIndex: 105 entries, 0 to 104\n",
      "Data columns (total 2 columns):\n",
      " #   Column        Non-Null Count  Dtype \n",
      "---  ------        --------------  ----- \n",
      " 0   questiontext  105 non-null    object\n",
      " 1   questionid    105 non-null    int64 \n",
      "dtypes: int64(1), object(1)\n",
      "memory usage: 1.8+ KB\n"
     ]
    }
   ],
   "source": [
    "df_question.info()"
   ]
  },
  {
   "cell_type": "code",
   "execution_count": 42,
   "metadata": {},
   "outputs": [
    {
     "data": {
      "text/html": [
       "<div>\n",
       "<style scoped>\n",
       "    .dataframe tbody tr th:only-of-type {\n",
       "        vertical-align: middle;\n",
       "    }\n",
       "\n",
       "    .dataframe tbody tr th {\n",
       "        vertical-align: top;\n",
       "    }\n",
       "\n",
       "    .dataframe thead th {\n",
       "        text-align: right;\n",
       "    }\n",
       "</style>\n",
       "<table border=\"1\" class=\"dataframe\">\n",
       "  <thead>\n",
       "    <tr style=\"text-align: right;\">\n",
       "      <th></th>\n",
       "      <th>AnswerText</th>\n",
       "      <th>SurveyID</th>\n",
       "      <th>UserID</th>\n",
       "      <th>QuestionID</th>\n",
       "    </tr>\n",
       "  </thead>\n",
       "  <tbody>\n",
       "    <tr>\n",
       "      <th>0</th>\n",
       "      <td>37</td>\n",
       "      <td>2014</td>\n",
       "      <td>1</td>\n",
       "      <td>1</td>\n",
       "    </tr>\n",
       "    <tr>\n",
       "      <th>1</th>\n",
       "      <td>44</td>\n",
       "      <td>2014</td>\n",
       "      <td>2</td>\n",
       "      <td>1</td>\n",
       "    </tr>\n",
       "    <tr>\n",
       "      <th>2</th>\n",
       "      <td>32</td>\n",
       "      <td>2014</td>\n",
       "      <td>3</td>\n",
       "      <td>1</td>\n",
       "    </tr>\n",
       "    <tr>\n",
       "      <th>3</th>\n",
       "      <td>31</td>\n",
       "      <td>2014</td>\n",
       "      <td>4</td>\n",
       "      <td>1</td>\n",
       "    </tr>\n",
       "    <tr>\n",
       "      <th>4</th>\n",
       "      <td>31</td>\n",
       "      <td>2014</td>\n",
       "      <td>5</td>\n",
       "      <td>1</td>\n",
       "    </tr>\n",
       "  </tbody>\n",
       "</table>\n",
       "</div>"
      ],
      "text/plain": [
       "  AnswerText  SurveyID  UserID  QuestionID\n",
       "0         37      2014       1           1\n",
       "1         44      2014       2           1\n",
       "2         32      2014       3           1\n",
       "3         31      2014       4           1\n",
       "4         31      2014       5           1"
      ]
     },
     "execution_count": 42,
     "metadata": {},
     "output_type": "execute_result"
    }
   ],
   "source": [
    "a = \"SELECT * FROM Answer\"\n",
    "\n",
    "df_answer = pd.read_sql_query(a, conn)\n",
    "\n",
    "df_answer.head()"
   ]
  },
  {
   "cell_type": "code",
   "execution_count": 43,
   "metadata": {},
   "outputs": [
    {
     "name": "stdout",
     "output_type": "stream",
     "text": [
      "<class 'pandas.core.frame.DataFrame'>\n",
      "RangeIndex: 236898 entries, 0 to 236897\n",
      "Data columns (total 4 columns):\n",
      " #   Column      Non-Null Count   Dtype \n",
      "---  ------      --------------   ----- \n",
      " 0   AnswerText  236898 non-null  object\n",
      " 1   SurveyID    236898 non-null  int64 \n",
      " 2   UserID      236898 non-null  int64 \n",
      " 3   QuestionID  236898 non-null  int64 \n",
      "dtypes: int64(3), object(1)\n",
      "memory usage: 7.2+ MB\n"
     ]
    }
   ],
   "source": [
    "df_answer.info()"
   ]
  },
  {
   "cell_type": "code",
   "execution_count": 44,
   "metadata": {},
   "outputs": [
    {
     "data": {
      "text/html": [
       "<div>\n",
       "<style scoped>\n",
       "    .dataframe tbody tr th:only-of-type {\n",
       "        vertical-align: middle;\n",
       "    }\n",
       "\n",
       "    .dataframe tbody tr th {\n",
       "        vertical-align: top;\n",
       "    }\n",
       "\n",
       "    .dataframe thead th {\n",
       "        text-align: right;\n",
       "    }\n",
       "</style>\n",
       "<table border=\"1\" class=\"dataframe\">\n",
       "  <thead>\n",
       "    <tr style=\"text-align: right;\">\n",
       "      <th></th>\n",
       "      <th>SurveyID</th>\n",
       "      <th>Description</th>\n",
       "    </tr>\n",
       "  </thead>\n",
       "  <tbody>\n",
       "    <tr>\n",
       "      <th>0</th>\n",
       "      <td>2014</td>\n",
       "      <td>mental health survey for 2014</td>\n",
       "    </tr>\n",
       "    <tr>\n",
       "      <th>1</th>\n",
       "      <td>2016</td>\n",
       "      <td>mental health survey for 2016</td>\n",
       "    </tr>\n",
       "    <tr>\n",
       "      <th>2</th>\n",
       "      <td>2017</td>\n",
       "      <td>mental health survey for 2017</td>\n",
       "    </tr>\n",
       "    <tr>\n",
       "      <th>3</th>\n",
       "      <td>2018</td>\n",
       "      <td>mental health survey for 2018</td>\n",
       "    </tr>\n",
       "    <tr>\n",
       "      <th>4</th>\n",
       "      <td>2019</td>\n",
       "      <td>mental health survey for 2019</td>\n",
       "    </tr>\n",
       "  </tbody>\n",
       "</table>\n",
       "</div>"
      ],
      "text/plain": [
       "   SurveyID                    Description\n",
       "0      2014  mental health survey for 2014\n",
       "1      2016  mental health survey for 2016\n",
       "2      2017  mental health survey for 2017\n",
       "3      2018  mental health survey for 2018\n",
       "4      2019  mental health survey for 2019"
      ]
     },
     "execution_count": 44,
     "metadata": {},
     "output_type": "execute_result"
    }
   ],
   "source": [
    "s = \"SELECT * FROM Survey\"\n",
    "\n",
    "df_survey = pd.read_sql_query(s, conn)\n",
    "\n",
    "df_survey.head()"
   ]
  },
  {
   "cell_type": "code",
   "execution_count": 45,
   "metadata": {},
   "outputs": [
    {
     "name": "stdout",
     "output_type": "stream",
     "text": [
      "<class 'pandas.core.frame.DataFrame'>\n",
      "RangeIndex: 5 entries, 0 to 4\n",
      "Data columns (total 2 columns):\n",
      " #   Column       Non-Null Count  Dtype \n",
      "---  ------       --------------  ----- \n",
      " 0   SurveyID     5 non-null      int64 \n",
      " 1   Description  5 non-null      object\n",
      "dtypes: int64(1), object(1)\n",
      "memory usage: 208.0+ bytes\n"
     ]
    }
   ],
   "source": [
    "df_survey.info()"
   ]
  },
  {
   "cell_type": "code",
   "execution_count": 46,
   "metadata": {},
   "outputs": [
    {
     "name": "stdout",
     "output_type": "stream",
     "text": [
      "               AnswerText  SurveyID  UserID  QuestionID\n",
      "2                      32      2014       3           1\n",
      "1262                 Male      2014       3           2\n",
      "2522               Canada      2014       3           3\n",
      "3782                   -1      2014       3           4\n",
      "5042                   -1      2014       3           5\n",
      "6302                   No      2014       3           6\n",
      "7562                    0      2014       3           7\n",
      "8822                 6-25      2014       3           8\n",
      "10082                   1      2014       3           9\n",
      "11342                  No      2014       3          10\n",
      "12602          Don't know      2014       3          11\n",
      "13862                 Yes      2014       3          12\n",
      "15122                  No      2014       3          90\n",
      "16382                  No      2014       3          91\n",
      "17642              Rarely      2014       3          92\n",
      "18902                  No      2014       3          93\n",
      "20162                  No      2014       3          94\n",
      "21422                  No      2014       3          95\n",
      "22682                  No      2014       3          96\n",
      "23942  Somewhat difficult      2014       3          97\n",
      "25202                  No      2014       3          98\n",
      "26462                 Yes      2014       3          99\n",
      "27722                 Yes      2014       3         100\n",
      "28982                 Yes      2014       3         101\n",
      "30242                  No      2014       3         102\n",
      "31502                  -1      2014       3         103\n"
     ]
    }
   ],
   "source": [
    "print(df_answer.loc[df_answer['UserID'] == 3])"
   ]
  },
  {
   "cell_type": "code",
   "execution_count": 47,
   "metadata": {},
   "outputs": [
    {
     "data": {
      "text/html": [
       "<div>\n",
       "<style scoped>\n",
       "    .dataframe tbody tr th:only-of-type {\n",
       "        vertical-align: middle;\n",
       "    }\n",
       "\n",
       "    .dataframe tbody tr th {\n",
       "        vertical-align: top;\n",
       "    }\n",
       "\n",
       "    .dataframe thead th {\n",
       "        text-align: right;\n",
       "    }\n",
       "</style>\n",
       "<table border=\"1\" class=\"dataframe\">\n",
       "  <thead>\n",
       "    <tr style=\"text-align: right;\">\n",
       "      <th></th>\n",
       "      <th>SurveyID</th>\n",
       "      <th>Description</th>\n",
       "    </tr>\n",
       "  </thead>\n",
       "  <tbody>\n",
       "    <tr>\n",
       "      <th>0</th>\n",
       "      <td>2014</td>\n",
       "      <td>mental health survey for 2014</td>\n",
       "    </tr>\n",
       "    <tr>\n",
       "      <th>1</th>\n",
       "      <td>2016</td>\n",
       "      <td>mental health survey for 2016</td>\n",
       "    </tr>\n",
       "    <tr>\n",
       "      <th>2</th>\n",
       "      <td>2017</td>\n",
       "      <td>mental health survey for 2017</td>\n",
       "    </tr>\n",
       "    <tr>\n",
       "      <th>3</th>\n",
       "      <td>2018</td>\n",
       "      <td>mental health survey for 2018</td>\n",
       "    </tr>\n",
       "    <tr>\n",
       "      <th>4</th>\n",
       "      <td>2019</td>\n",
       "      <td>mental health survey for 2019</td>\n",
       "    </tr>\n",
       "  </tbody>\n",
       "</table>\n",
       "</div>"
      ],
      "text/plain": [
       "   SurveyID                    Description\n",
       "0      2014  mental health survey for 2014\n",
       "1      2016  mental health survey for 2016\n",
       "2      2017  mental health survey for 2017\n",
       "3      2018  mental health survey for 2018\n",
       "4      2019  mental health survey for 2019"
      ]
     },
     "execution_count": 47,
     "metadata": {},
     "output_type": "execute_result"
    }
   ],
   "source": [
    "df_survey.head()"
   ]
  },
  {
   "cell_type": "code",
   "execution_count": 48,
   "metadata": {},
   "outputs": [
    {
     "name": "stdout",
     "output_type": "stream",
     "text": [
      "[  1   2   3   4   5   6   7   8   9  10  11  12  13  14  15  16  17  18\n",
      "  19  20  21  22  23  24  25  26  27  28  29  30  31  32  33  34  48  49\n",
      "  50  51  52  53  54  55  56  57  58  59  60  61  62  63  64  65  66  67\n",
      "  68  69  70  71  72  73  74  75  76  77  78  79  80  81  82  83  84  85\n",
      "  86  87  88  89  90  91  92  93  94  95  96  97  98  99 100 101 102 103\n",
      " 104 105 106 107 108 109 110 111 112 113 114 115 116 117 118]\n"
     ]
    }
   ],
   "source": [
    "print(df_question['questionid'].unique())"
   ]
  },
  {
   "cell_type": "code",
   "execution_count": 49,
   "metadata": {},
   "outputs": [
    {
     "name": "stdout",
     "output_type": "stream",
     "text": [
      " 1, What is your age?\n",
      " 2, What is your gender?\n",
      " 3, What country do you live in?\n",
      " 4, If you live in the United States, which state or territory do you live in?\n",
      " 5, Are you self-employed?\n",
      " 6, Do you have a family history of mental illness?\n",
      " 7, Have you ever sought treatment for a mental health disorder from a mental health professional?\n",
      " 8, How many employees does your company or organization have?\n",
      " 9, Is your employer primarily a tech company/organization?\n",
      " 10, Does your employer provide mental health benefits as part of healthcare coverage?\n",
      " 11, Is your anonymity protected if you choose to take advantage of mental health or substance abuse treatment resources provided by your employer?\n",
      " 12, Would you bring up a mental health issue with a potential employer in an interview?\n",
      " 13, Is your primary role within your company related to tech/IT?\n",
      " 14, Do you know the options for mental health care available under your employer-provided health coverage?\n",
      " 15, Has your employer ever formally discussed mental health (for example, as part of a wellness campaign or other official communication)?\n",
      " 16, Does your employer offer resources to learn more about mental health disorders and options for seeking help?\n",
      " 17, If a mental health issue prompted you to request a medical leave from work, how easy or difficult would it be to ask for that leave?\n",
      " 18, Would you feel comfortable discussing a mental health issue with your coworkers?\n",
      " 19, Would you feel comfortable discussing a mental health issue with your direct supervisor(s)?\n",
      " 20, Do you have medical coverage (private insurance or state-provided) that includes treatment of mental health disorders?\n",
      " 21, Do you know local or online resources to seek help for a mental health issue?\n",
      " 22, Do you have previous employers?\n",
      " 23, Have your previous employers provided mental health benefits?\n",
      " 24, Were you aware of the options for mental health care provided by your previous employers?\n",
      " 25, Did your previous employers ever formally discuss mental health (as part of a wellness campaign or other official communication)?\n"
     ]
    }
   ],
   "source": [
    "# Get unique questions with their QuestionIDs\n",
    "unique_questions = df_question[['questionid', 'questiontext']].drop_duplicates()\n",
    "\n",
    "# Print the first 30 unique questions along with their QuestionIDs\n",
    "for index, row in unique_questions.iterrows():\n",
    "    if index < 25:  # Limit to the first 30\n",
    "        print(f\" {row['questionid']}, {row['questiontext']}\")\n"
   ]
  },
  {
   "cell_type": "code",
   "execution_count": 50,
   "metadata": {},
   "outputs": [
    {
     "name": "stdout",
     "output_type": "stream",
     "text": [
      " 26, Did your previous employers provide resources to learn more about mental health disorders and how to seek help?\n",
      " 27, Was your anonymity protected if you chose to take advantage of mental health or substance abuse treatment resources with previous employers?\n",
      " 28, Would you have been willing to discuss your mental health with your direct supervisor(s)?\n",
      " 29, Would you be willing to bring up a physical health issue with a potential employer in an interview?\n",
      " 30, How willing would you be to share with friends and family that you have a mental illness?\n",
      " 31, Have your observations of how another individual who discussed a mental health disorder made you less likely to reveal a mental health issue yourself in your current workplace?\n",
      " 32, Have you had a mental health disorder in the past?\n",
      " 33, Do you currently have a mental health disorder?\n",
      " 34, Have you ever been diagnosed with a mental health disorder?\n",
      " 48, If you have a mental health disorder, how often do you feel that it interferes with your work when being treated effectively?\n",
      " 49, If you have a mental health disorder, how often do you feel that it interferes with your work when not being treated effectively (i.e., when you are experiencing symptoms)?\n",
      " 50, What country do you work in?\n",
      " 51, What US state or territory do you work in?\n",
      " 52, If you have been diagnosed or treated for a mental health disorder, do you ever reveal this to clients or business contacts?\n",
      " 53, If you have been diagnosed or treated for a mental health disorder, do you ever reveal this to coworkers or employees?\n",
      " 54, Do you believe your productivity is ever affected by a mental health issue?\n",
      " 55, If yes, what percentage of your work time (time performing primary or secondary job functions) is affected by a mental health issue?\n",
      " 56, Have you observed or experienced an unsupportive or badly handled response to a mental health issue in your current or previous workplace?\n",
      " 57, Would you feel more comfortable talking to your coworkers about your physical health or your mental health?\n",
      " 58, Have you ever discussed your mental health with your employer?\n",
      " 59, Describe the conversation you had with your employer about your mental health, including their reactions and what actions were taken to address your mental health issue/questions.\n",
      " 60, Have you ever discussed your mental health with coworkers?\n",
      " 61, Describe the conversation with coworkers you had about your mental health including their reactions.\n",
      " 62, Have you ever had a coworker discuss their or another coworker's mental health with you?\n",
      " 63, Describe the conversation your coworker had with you about their mental health (please do not use names).\n"
     ]
    }
   ],
   "source": [
    "# Print questions from index 25 to 50\n",
    "for index, row in unique_questions.iterrows():\n",
    "    if 25 <= index < 50:  # Start from index 25 up to but not including 50\n",
    "        print(f\" {row['questionid']}, {row['questiontext']}\")\n"
   ]
  },
  {
   "cell_type": "code",
   "execution_count": 51,
   "metadata": {},
   "outputs": [
    {
     "name": "stdout",
     "output_type": "stream",
     "text": [
      " 64, Overall, how much importance does your employer place on physical health?\n",
      " 65, Overall, how much importance does your employer place on mental health?\n",
      " 66, If you have revealed a mental health disorder to a client or business contact, how has this affected you or the relationship?\n",
      " 67, If you have revealed a mental health disorder to a coworker or employee, how has this impacted you or the relationship?\n",
      " 68, Was your employer primarily a tech company/organization?\n",
      " 69, Would you have felt more comfortable talking to your previous employer about your physical health or your mental health?\n",
      " 70, Did you ever discuss your mental health with your previous employer?\n",
      " 71, Describe the conversation you had with your previous employer about your mental health, including their reactions and actions taken to address your mental health issue/questions.\n",
      " 72, Did you ever discuss your mental health with a previous coworker(s)?\n",
      " 73, Describe the conversation you had with your previous coworkers about your mental health including their reactions.\n",
      " 74, Did you ever have a previous coworker discuss their or another coworker's mental health with you?\n",
      " 75, Describe the conversation your coworker had with you about their mental health (please do not use names)..1\n",
      " 76, Overall, how much importance did your previous employer place on physical health?\n",
      " 77, Overall, how much importance did your previous employer place on mental health?\n",
      " 78, Are you openly identified at work as a person with a mental health issue?\n",
      " 79, Has being identified as a person with a mental health issue affected your career?\n",
      " 80, How has it affected your career?\n",
      " 81, If they knew you suffered from a mental health disorder, how do you think that your team members/co-workers would react?\n",
      " 82, Describe the circumstances of the badly handled or unsupportive response.\n",
      " 83, Have you observed or experienced supportive or well handled response to a mental health issue in your current or previous workplace?\n",
      " 84, Describe the circumstances of the supportive or well handled response.\n",
      " 85, Overall, how well do you think the tech industry supports employees with mental health issues?\n",
      " 86, Briefly describe what you think the industry as a whole and/or employers could do to improve mental health support for employees.\n",
      " 87, If there is anything else you would like to tell us that has not been covered by the survey questions, please use this space to do so.\n",
      " 88, Would you be willing to talk to one of us more extensively about your experiences with mental health issues in the tech industry? (Note that all interview responses would be used _anonymously_ and only with your permission.)\n"
     ]
    }
   ],
   "source": [
    "# Print questions from index 50 to 100\n",
    "for index, row in unique_questions.iterrows():\n",
    "    if 50 <= index < 75:  # Start from index 25 up to but not including 50\n",
    "        print(f\" {row['questionid']}, {row['questiontext']}\")"
   ]
  },
  {
   "cell_type": "code",
   "execution_count": null,
   "metadata": {},
   "outputs": [],
   "source": []
  },
  {
   "cell_type": "code",
   "execution_count": 52,
   "metadata": {},
   "outputs": [
    {
     "name": "stdout",
     "output_type": "stream",
     "text": [
      " 89, What is your race?\n",
      " 90, Do you think that discussing a physical health issue with your employer would have negative consequences?\n",
      " 91, Do you feel that your employer takes mental health as seriously as physical health?\n",
      " 92, If you have a mental health condition, do you feel that it interferes with your work?\n",
      " 93, Do you work remotely (outside of an office) at least 50% of the time?\n",
      " 94, Do you know the options for mental health care your employer provides?\n",
      " 95, Has your employer ever discussed mental health as part of an employee wellness program?\n",
      " 96, Does your employer provide resources to learn more about mental health issues and how to seek help?\n",
      " 97, How easy is it for you to take medical leave for a mental health condition?\n",
      " 98, Do you think that discussing a mental health issue with your employer would have negative consequences?\n",
      " 99, Would you be willing to discuss a mental health issue with your coworkers?\n",
      " 100, Would you be willing to discuss a mental health issue with your direct supervisor(s)?\n",
      " 101, Would you bring up a physical health issue with a potential employer in an interview?\n",
      " 102, Have you heard of or observed negative consequences for coworkers with mental health conditions in your workplace?\n",
      " 103, Any additional notes or comments\n",
      " 104, Do you think that discussing a mental health disorder with your employer would have negative consequences?\n",
      " 105, Have you heard of or observed negative consequences for co-workers who have been open about mental health issues in your workplace?\n",
      " 106, If you have revealed a mental health issue to a client or business contact, do you believe this has impacted you negatively?\n",
      " 107, If you have revealed a mental health issue to a coworker or employee, do you believe this has impacted you negatively?\n",
      " 108, Do you think that discussing a mental health disorder with previous employers would have negative consequences?\n",
      " 109, Do you think that discussing a physical health issue with previous employers would have negative consequences?\n",
      " 110, Would you have been willing to discuss a mental health issue with your previous co-workers?\n",
      " 111, Did you feel that your previous employers took mental health as seriously as physical health?\n",
      " 112, Did you hear of or observe negative consequences for co-workers with mental health issues in your previous workplaces?\n",
      " 113, Do you feel that being identified as a person with a mental health issue would hurt your career?\n"
     ]
    }
   ],
   "source": [
    "# Print questions from index 25 to 50\n",
    "for index, row in unique_questions.iterrows():\n",
    "    if 75 <= index < 100:  # Start from index 25 up to but not including 50\n",
    "        print(f\" {row['questionid']}, {row['questiontext']}\")"
   ]
  },
  {
   "cell_type": "code",
   "execution_count": 53,
   "metadata": {},
   "outputs": [
    {
     "name": "stdout",
     "output_type": "stream",
     "text": [
      " 114, Do you think that team members/co-workers would view you more negatively if they knew you suffered from a mental health issue?\n",
      " 115, If yes, what condition(s) have you been diagnosed with?\n",
      " 116, If maybe, what condition(s) do you believe you have?\n",
      " 117, Which of the following best describes your work position?\n",
      " 118, Do you work remotely?\n"
     ]
    }
   ],
   "source": [
    "# Print questions from index 25 to 50\n",
    "for index, row in unique_questions.iterrows():\n",
    "    if 100 <= index < 120:  # Start from index 25 up to but not including 50\n",
    "        print(f\" {row['questionid']}, {row['questiontext']}\")"
   ]
  },
  {
   "cell_type": "code",
   "execution_count": 54,
   "metadata": {},
   "outputs": [
    {
     "name": "stdout",
     "output_type": "stream",
     "text": [
      "4218\n"
     ]
    }
   ],
   "source": [
    "print(df_answer['UserID'].nunique())"
   ]
  },
  {
   "cell_type": "markdown",
   "metadata": {},
   "source": [
    "## Employees in IT"
   ]
  },
  {
   "cell_type": "code",
   "execution_count": 55,
   "metadata": {},
   "outputs": [],
   "source": [
    "def print_answer_counts(df, question_id):\n",
    "    \"\"\"\n",
    "    Prints the value counts of AnswerText for a specific QuestionID in the given DataFrame.\n",
    "\n",
    "    Parameters:\n",
    "    df (pd.DataFrame): The DataFrame containing survey responses.\n",
    "    question_id (int): The QuestionID to filter by.\n",
    "\n",
    "    Returns:\n",
    "    None\n",
    "    \"\"\"\n",
    "    # Filter the DataFrame for the specific QuestionID and get value counts of AnswerText\n",
    "    answer_counts = df[df['QuestionID'] == question_id]['AnswerText'].value_counts()\n",
    "    \n",
    "    # Print the result\n",
    "    print(f\"Value counts for QuestionID {question_id}:\")\n",
    "    print(answer_counts)\n",
    "\n",
    "\n"
   ]
  },
  {
   "cell_type": "code",
   "execution_count": 56,
   "metadata": {},
   "outputs": [
    {
     "name": "stdout",
     "output_type": "stream",
     "text": [
      "Value counts for QuestionID 13:\n",
      "1     1471\n",
      "-1    1387\n",
      "0      100\n",
      "Name: AnswerText, dtype: int64\n"
     ]
    }
   ],
   "source": [
    "print_answer_counts(df_answer, 13)"
   ]
  },
  {
   "cell_type": "code",
   "execution_count": 57,
   "metadata": {},
   "outputs": [
    {
     "name": "stdout",
     "output_type": "stream",
     "text": [
      "Value counts for QuestionID 5:\n",
      "0     3550\n",
      "1      650\n",
      "-1      18\n",
      "Name: AnswerText, dtype: int64\n"
     ]
    }
   ],
   "source": [
    "print_answer_counts(df_answer, 5) #self employed"
   ]
  },
  {
   "cell_type": "code",
   "execution_count": 58,
   "metadata": {},
   "outputs": [
    {
     "name": "stdout",
     "output_type": "stream",
     "text": [
      "      AnswerText  SurveyID  UserID  QuestionID\n",
      "33568         15      2016    2069           1\n"
     ]
    }
   ],
   "source": [
    "# Filter for QuestionID 1 and where AnswerText is -1\n",
    "age_employed = df_answer[(df_answer['QuestionID'] == 1) & (df_answer['AnswerText'] == '15')]\n",
    "\n",
    "# Display the result\n",
    "print(age_employed)"
   ]
  },
  {
   "cell_type": "code",
   "execution_count": 59,
   "metadata": {},
   "outputs": [
    {
     "name": "stdout",
     "output_type": "stream",
     "text": [
      "      AnswerText  SurveyID  UserID  QuestionID\n",
      "39300          1      2016    2069           5\n"
     ]
    }
   ],
   "source": [
    "# Filter for QuestionID 1 and where AnswerText is -1\n",
    "age_id = df_answer[(df_answer['QuestionID'] == 5) & (df_answer['UserID'] == 2069)]\n",
    "\n",
    "# Display the result\n",
    "print(age_id)"
   ]
  },
  {
   "cell_type": "code",
   "execution_count": 60,
   "metadata": {},
   "outputs": [
    {
     "name": "stdout",
     "output_type": "stream",
     "text": [
      "     AnswerText  SurveyID  UserID  QuestionID\n",
      "5040         -1      2014       1           5\n",
      "5041         -1      2014       2           5\n",
      "5042         -1      2014       3           5\n",
      "5043         -1      2014       4           5\n",
      "5044         -1      2014       5           5\n",
      "5045         -1      2014       6           5\n",
      "5046         -1      2014       7           5\n",
      "5047         -1      2014       8           5\n",
      "5048         -1      2014       9           5\n",
      "5049         -1      2014      10           5\n",
      "5050         -1      2014      11           5\n",
      "5051         -1      2014      12           5\n",
      "5052         -1      2014      13           5\n",
      "5053         -1      2014      14           5\n",
      "5054         -1      2014      15           5\n",
      "5055         -1      2014      16           5\n",
      "5056         -1      2014      17           5\n",
      "5057         -1      2014      18           5\n"
     ]
    }
   ],
   "source": [
    "# Filter for QuestionID 1 and where AnswerText is -1\n",
    "employed_negative = df_answer[(df_answer['QuestionID'] == 5) & (df_answer['AnswerText'] == '-1')]\n",
    "\n",
    "# Display the result\n",
    "print(employed_negative)"
   ]
  },
  {
   "cell_type": "code",
   "execution_count": 61,
   "metadata": {},
   "outputs": [
    {
     "name": "stdout",
     "output_type": "stream",
     "text": [
      "Value counts for QuestionID 9:\n",
      "1     2888\n",
      "0      826\n",
      "-1     504\n",
      "Name: AnswerText, dtype: int64\n"
     ]
    }
   ],
   "source": [
    "print_answer_counts(df_answer, 9)"
   ]
  },
  {
   "cell_type": "code",
   "execution_count": 62,
   "metadata": {},
   "outputs": [
    {
     "name": "stdout",
     "output_type": "stream",
     "text": [
      "       AnswerText  SurveyID  UserID  QuestionID\n",
      "390            -1      2014     391           1\n",
      "715            -1      2014     716           1\n",
      "1127           -1      2014    1128           1\n",
      "115194         -1      2017    3447           1\n",
      "115196         -1      2017    3449           1\n"
     ]
    }
   ],
   "source": [
    "# Filter for QuestionID 9 or 5 and where AnswerText is -1\n",
    "employed_negative = df_answer[(df_answer['QuestionID'].isin([9 & 5])) & (df_answer['AnswerText'] == '-1')]\n",
    "\n",
    "# Display the result\n",
    "print(employed_negative)\n"
   ]
  },
  {
   "cell_type": "markdown",
   "metadata": {},
   "source": [
    "This clearly proves that -1 is an inconclusive answer since. Since majority of the -1 in self employed, have claimed to be employed in question 9"
   ]
  },
  {
   "cell_type": "code",
   "execution_count": 63,
   "metadata": {},
   "outputs": [
    {
     "data": {
      "text/html": [
       "<div>\n",
       "<style scoped>\n",
       "    .dataframe tbody tr th:only-of-type {\n",
       "        vertical-align: middle;\n",
       "    }\n",
       "\n",
       "    .dataframe tbody tr th {\n",
       "        vertical-align: top;\n",
       "    }\n",
       "\n",
       "    .dataframe thead th {\n",
       "        text-align: right;\n",
       "    }\n",
       "</style>\n",
       "<table border=\"1\" class=\"dataframe\">\n",
       "  <thead>\n",
       "    <tr style=\"text-align: right;\">\n",
       "      <th></th>\n",
       "      <th>AnswerText</th>\n",
       "      <th>SurveyID</th>\n",
       "      <th>UserID</th>\n",
       "      <th>QuestionID</th>\n",
       "    </tr>\n",
       "  </thead>\n",
       "  <tbody>\n",
       "    <tr>\n",
       "      <th>32764</th>\n",
       "      <td>43</td>\n",
       "      <td>2016</td>\n",
       "      <td>1265</td>\n",
       "      <td>1</td>\n",
       "    </tr>\n",
       "    <tr>\n",
       "      <th>32768</th>\n",
       "      <td>44</td>\n",
       "      <td>2016</td>\n",
       "      <td>1269</td>\n",
       "      <td>1</td>\n",
       "    </tr>\n",
       "    <tr>\n",
       "      <th>32771</th>\n",
       "      <td>34</td>\n",
       "      <td>2016</td>\n",
       "      <td>1272</td>\n",
       "      <td>1</td>\n",
       "    </tr>\n",
       "    <tr>\n",
       "      <th>32773</th>\n",
       "      <td>44</td>\n",
       "      <td>2016</td>\n",
       "      <td>1274</td>\n",
       "      <td>1</td>\n",
       "    </tr>\n",
       "    <tr>\n",
       "      <th>32779</th>\n",
       "      <td>31</td>\n",
       "      <td>2016</td>\n",
       "      <td>1280</td>\n",
       "      <td>1</td>\n",
       "    </tr>\n",
       "  </tbody>\n",
       "</table>\n",
       "</div>"
      ],
      "text/plain": [
       "      AnswerText  SurveyID  UserID  QuestionID\n",
       "32764         43      2016    1265           1\n",
       "32768         44      2016    1269           1\n",
       "32771         34      2016    1272           1\n",
       "32773         44      2016    1274           1\n",
       "32779         31      2016    1280           1"
      ]
     },
     "execution_count": 63,
     "metadata": {},
     "output_type": "execute_result"
    }
   ],
   "source": [
    "it_one = (df_answer['QuestionID'] == 13) & (df_answer['AnswerText'] == '1')\n",
    "in_it = df_answer[it_one]\n",
    "ids_in_it = in_it['UserID'].unique()\n",
    "employee_it = df_answer[df_answer['UserID'].isin(ids_in_it)]\n",
    "employee_it.head()\n"
   ]
  },
  {
   "cell_type": "code",
   "execution_count": 64,
   "metadata": {},
   "outputs": [
    {
     "name": "stdout",
     "output_type": "stream",
     "text": [
      "<class 'pandas.core.frame.DataFrame'>\n",
      "Int64Index: 108226 entries, 32764 to 236896\n",
      "Data columns (total 4 columns):\n",
      " #   Column      Non-Null Count   Dtype \n",
      "---  ------      --------------   ----- \n",
      " 0   AnswerText  108226 non-null  object\n",
      " 1   SurveyID    108226 non-null  int64 \n",
      " 2   UserID      108226 non-null  int64 \n",
      " 3   QuestionID  108226 non-null  int64 \n",
      "dtypes: int64(3), object(1)\n",
      "memory usage: 4.1+ MB\n"
     ]
    }
   ],
   "source": [
    "employee_it.info()"
   ]
  },
  {
   "cell_type": "code",
   "execution_count": 65,
   "metadata": {},
   "outputs": [
    {
     "name": "stdout",
     "output_type": "stream",
     "text": [
      "Value counts for QuestionID 33:\n",
      "Yes           625\n",
      "No            445\n",
      "Possibly      247\n",
      "Don't Know     98\n",
      "Maybe          56\n",
      "Name: AnswerText, dtype: int64\n"
     ]
    }
   ],
   "source": [
    "print_answer_counts(employee_it, 33)"
   ]
  },
  {
   "cell_type": "code",
   "execution_count": 66,
   "metadata": {},
   "outputs": [
    {
     "data": {
      "text/html": [
       "<div>\n",
       "<style scoped>\n",
       "    .dataframe tbody tr th:only-of-type {\n",
       "        vertical-align: middle;\n",
       "    }\n",
       "\n",
       "    .dataframe tbody tr th {\n",
       "        vertical-align: top;\n",
       "    }\n",
       "\n",
       "    .dataframe thead th {\n",
       "        text-align: right;\n",
       "    }\n",
       "</style>\n",
       "<table border=\"1\" class=\"dataframe\">\n",
       "  <thead>\n",
       "    <tr style=\"text-align: right;\">\n",
       "      <th></th>\n",
       "      <th>AnswerText</th>\n",
       "      <th>SurveyID</th>\n",
       "      <th>UserID</th>\n",
       "      <th>QuestionID</th>\n",
       "    </tr>\n",
       "  </thead>\n",
       "  <tbody>\n",
       "    <tr>\n",
       "      <th>32815</th>\n",
       "      <td>31</td>\n",
       "      <td>2016</td>\n",
       "      <td>1316</td>\n",
       "      <td>1</td>\n",
       "    </tr>\n",
       "    <tr>\n",
       "      <th>32826</th>\n",
       "      <td>35</td>\n",
       "      <td>2016</td>\n",
       "      <td>1327</td>\n",
       "      <td>1</td>\n",
       "    </tr>\n",
       "    <tr>\n",
       "      <th>32870</th>\n",
       "      <td>31</td>\n",
       "      <td>2016</td>\n",
       "      <td>1371</td>\n",
       "      <td>1</td>\n",
       "    </tr>\n",
       "    <tr>\n",
       "      <th>32923</th>\n",
       "      <td>55</td>\n",
       "      <td>2016</td>\n",
       "      <td>1424</td>\n",
       "      <td>1</td>\n",
       "    </tr>\n",
       "    <tr>\n",
       "      <th>33247</th>\n",
       "      <td>51</td>\n",
       "      <td>2016</td>\n",
       "      <td>1748</td>\n",
       "      <td>1</td>\n",
       "    </tr>\n",
       "  </tbody>\n",
       "</table>\n",
       "</div>"
      ],
      "text/plain": [
       "      AnswerText  SurveyID  UserID  QuestionID\n",
       "32815         31      2016    1316           1\n",
       "32826         35      2016    1327           1\n",
       "32870         31      2016    1371           1\n",
       "32923         55      2016    1424           1\n",
       "33247         51      2016    1748           1"
      ]
     },
     "execution_count": 66,
     "metadata": {},
     "output_type": "execute_result"
    }
   ],
   "source": [
    "it_zero = (df_answer['QuestionID'] == 13) & (df_answer['AnswerText'] == '0')\n",
    "not_it = df_answer[it_zero]\n",
    "ids_not_it = not_it['UserID'].unique()\n",
    "employee_nonit = df_answer[df_answer['UserID'].isin(ids_not_it)]\n",
    "employee_nonit.head()"
   ]
  },
  {
   "cell_type": "code",
   "execution_count": 67,
   "metadata": {},
   "outputs": [
    {
     "name": "stdout",
     "output_type": "stream",
     "text": [
      "Value counts for QuestionID 33:\n",
      "Yes           51\n",
      "No            28\n",
      "Possibly      15\n",
      "Maybe          3\n",
      "Don't Know     3\n",
      "Name: AnswerText, dtype: int64\n"
     ]
    }
   ],
   "source": [
    "print_answer_counts(employee_nonit, 33)"
   ]
  },
  {
   "cell_type": "code",
   "execution_count": 68,
   "metadata": {},
   "outputs": [
    {
     "data": {
      "text/html": [
       "<div>\n",
       "<style scoped>\n",
       "    .dataframe tbody tr th:only-of-type {\n",
       "        vertical-align: middle;\n",
       "    }\n",
       "\n",
       "    .dataframe tbody tr th {\n",
       "        vertical-align: top;\n",
       "    }\n",
       "\n",
       "    .dataframe thead th {\n",
       "        text-align: right;\n",
       "    }\n",
       "</style>\n",
       "<table border=\"1\" class=\"dataframe\">\n",
       "  <thead>\n",
       "    <tr style=\"text-align: right;\">\n",
       "      <th></th>\n",
       "      <th>AnswerText</th>\n",
       "      <th>SurveyID</th>\n",
       "      <th>UserID</th>\n",
       "      <th>QuestionID</th>\n",
       "    </tr>\n",
       "  </thead>\n",
       "  <tbody>\n",
       "    <tr>\n",
       "      <th>32760</th>\n",
       "      <td>39</td>\n",
       "      <td>2016</td>\n",
       "      <td>1261</td>\n",
       "      <td>1</td>\n",
       "    </tr>\n",
       "    <tr>\n",
       "      <th>32761</th>\n",
       "      <td>29</td>\n",
       "      <td>2016</td>\n",
       "      <td>1262</td>\n",
       "      <td>1</td>\n",
       "    </tr>\n",
       "    <tr>\n",
       "      <th>32762</th>\n",
       "      <td>38</td>\n",
       "      <td>2016</td>\n",
       "      <td>1263</td>\n",
       "      <td>1</td>\n",
       "    </tr>\n",
       "    <tr>\n",
       "      <th>32763</th>\n",
       "      <td>43</td>\n",
       "      <td>2016</td>\n",
       "      <td>1264</td>\n",
       "      <td>1</td>\n",
       "    </tr>\n",
       "    <tr>\n",
       "      <th>32765</th>\n",
       "      <td>42</td>\n",
       "      <td>2016</td>\n",
       "      <td>1266</td>\n",
       "      <td>1</td>\n",
       "    </tr>\n",
       "  </tbody>\n",
       "</table>\n",
       "</div>"
      ],
      "text/plain": [
       "      AnswerText  SurveyID  UserID  QuestionID\n",
       "32760         39      2016    1261           1\n",
       "32761         29      2016    1262           1\n",
       "32762         38      2016    1263           1\n",
       "32763         43      2016    1264           1\n",
       "32765         42      2016    1266           1"
      ]
     },
     "execution_count": 68,
     "metadata": {},
     "output_type": "execute_result"
    }
   ],
   "source": [
    "it_minus_one = (df_answer['QuestionID'] == 13) & (df_answer['AnswerText'] == '-1')\n",
    "minus_it = df_answer[it_minus_one]\n",
    "ids_minus_it = minus_it['UserID'].unique()\n",
    "employee_minus_it = df_answer[df_answer['UserID'].isin(ids_minus_it)]\n",
    "employee_minus_it.head()"
   ]
  },
  {
   "cell_type": "code",
   "execution_count": 69,
   "metadata": {},
   "outputs": [
    {
     "name": "stdout",
     "output_type": "stream",
     "text": [
      "Value counts for QuestionID 33:\n",
      "Yes           561\n",
      "No            496\n",
      "Maybe         268\n",
      "Possibly       39\n",
      "Don't Know     23\n",
      "Name: AnswerText, dtype: int64\n"
     ]
    }
   ],
   "source": [
    "print_answer_counts(employee_minus_it, 33)"
   ]
  },
  {
   "cell_type": "code",
   "execution_count": 70,
   "metadata": {},
   "outputs": [
    {
     "data": {
      "image/png": "[encoded data removed]",
      "text/plain": [
       "<Figure size 432x288 with 1 Axes>"
      ]
     },
     "metadata": {
      "needs_background": "light"
     },
     "output_type": "display_data"
    }
   ],
   "source": [
    "query = \"\"\"\n",
    "\n",
    "SELECT SurveyID, \n",
    "       CASE \n",
    "            WHEN AnswerText BETWEEN 18 AND 24 THEN '18-24'\n",
    "            WHEN AnswerText BETWEEN 25 AND 34 THEN '25-34'\n",
    "            WHEN AnswerText BETWEEN 35 AND 44 THEN '35-44'\n",
    "            WHEN AnswerText BETWEEN 45 AND 54 THEN '45-54'\n",
    "            WHEN AnswerText BETWEEN 55 AND 64 THEN '55-64'\n",
    "            WHEN AnswerText BETWEEN 65 AND 99 THEN 'Over 65 '\n",
    "        END AS age_group,  \n",
    "    COUNT(*) AS count\n",
    "FROM Answer\n",
    "WHERE SurveyID IN (2014, 2016, 2017, 2018, 2019)\n",
    "      AND QuestionID=1\n",
    "      AND AnswerText > 18\n",
    "      \n",
    "GROUP BY SurveyID, age_group\n",
    "ORDER BY SurveyID, age_group; \n",
    "\"\"\"\n",
    "Age_Survey = pd.read_sql(query, conn)\n",
    "# Get a list of unique age groups in the dataframe\n",
    "SurveyID_groups = Age_Survey['SurveyID'].unique()\n",
    "\n",
    "# Create a figure and axis object\n",
    "fig, ax = plt.subplots()\n",
    "\n",
    "# Plot a line for each age group\n",
    "for SurveyID_group in SurveyID_groups:\n",
    "    ax.plot(Age_Survey.loc[Age_Survey['SurveyID'] == SurveyID_group, 'age_group'], Age_Survey.loc[Age_Survey['SurveyID'] == SurveyID_group, 'count'], label=SurveyID_group)\n",
    "\n",
    "# Set the x and y axis labels\n",
    "ax.set_xlabel('Age Group')\n",
    "ax.set_ylabel('Count')\n",
    "\n",
    "# Set the title of the plot\n",
    "ax.set_title('Count of Users by Age Group',fontsize = 15)\n",
    "\n",
    "# Show the legend\n",
    "ax.legend()\n",
    "\n",
    "# show graph\n",
    "plt.show()\n"
   ]
  },
  {
   "cell_type": "markdown",
   "metadata": {},
   "source": [
    "## Employees in IT Visualization"
   ]
  },
  {
   "cell_type": "code",
   "execution_count": 71,
   "metadata": {},
   "outputs": [],
   "source": [
    "def print_answer_counts(df, question_id):\n",
    "    \"\"\"\n",
    "    Prints the value counts of AnswerText for a specific QuestionID in the given DataFrame.\n",
    "\n",
    "    Parameters:\n",
    "    df (pd.DataFrame): The DataFrame containing survey responses.\n",
    "    question_id (int): The QuestionID to filter by.\n",
    "\n",
    "    Returns:\n",
    "    pd.Series: The value counts of AnswerText for the specified QuestionID.\n",
    "    \"\"\"\n",
    "    answer_counts = df[df['QuestionID'] == question_id]['AnswerText'].value_counts()\n",
    "    print(f\"Value counts for QuestionID {question_id}:\")\n",
    "    print(answer_counts)\n",
    "    return answer_counts  # Return the value counts\n"
   ]
  },
  {
   "cell_type": "code",
   "execution_count": 72,
   "metadata": {},
   "outputs": [
    {
     "name": "stdout",
     "output_type": "stream",
     "text": [
      "Value counts for QuestionID 13:\n",
      "1     1471\n",
      "-1    1387\n",
      "0      100\n",
      "Name: AnswerText, dtype: int64\n"
     ]
    },
    {
     "data": {
      "image/png": "[encoded data removed]",
      "text/plain": [
       "<Figure size 720x432 with 1 Axes>"
      ]
     },
     "metadata": {
      "needs_background": "light"
     },
     "output_type": "display_data"
    }
   ],
   "source": [
    "import matplotlib.pyplot as plt\n",
    "\n",
    "plt.figure(figsize=(10, 6))\n",
    "it_employees_counts = print_answer_counts(df_answer, 13)\n",
    "\n",
    "bars = plt.bar(it_employees_counts.index, it_employees_counts.values, color='skyblue')\n",
    "\n",
    "legend_mapping = {\n",
    "    '1': '1 -Employees in IT',\n",
    "    '-1': '-1 - Not Sure',\n",
    "    '0': '0 - Employees Not in IT'\n",
    "}\n",
    "\n",
    "# Add titles and labels\n",
    "plt.title('Employees in IT')\n",
    "plt.xlabel('Answer Text')\n",
    "plt.ylabel('Count')\n",
    "\n",
    "# Show the plot\n",
    "plt.xticks(rotation=45)  # Rotate x-axis labels for better readability\n",
    "plt.tight_layout()  # Adjust layout\n",
    "# Create a legend\n",
    "plt.legend(bars, [legend_mapping[str(i)] for i in it_employees_counts.index])\n",
    "\n",
    "\n",
    "plt.show()"
   ]
  },
  {
   "cell_type": "code",
   "execution_count": 73,
   "metadata": {},
   "outputs": [
    {
     "name": "stdout",
     "output_type": "stream",
     "text": [
      "Value counts for QuestionID 89:\n",
      "White                               741\n",
      "-1                                  388\n",
      "More than one of the above           30\n",
      "Asian                                25\n",
      "I prefer not to answer               25\n",
      "Black or African American            10\n",
      "Caucasian                             1\n",
      "American Indian or Alaska Native      1\n",
      "White Hispanic                        1\n",
      "Hispanic                              1\n",
      "Name: AnswerText, dtype: int64\n"
     ]
    },
    {
     "data": {
      "text/plain": [
       "White                               741\n",
       "-1                                  388\n",
       "More than one of the above           30\n",
       "Asian                                25\n",
       "I prefer not to answer               25\n",
       "Black or African American            10\n",
       "Caucasian                             1\n",
       "American Indian or Alaska Native      1\n",
       "White Hispanic                        1\n",
       "Hispanic                              1\n",
       "Name: AnswerText, dtype: int64"
      ]
     },
     "execution_count": 73,
     "metadata": {},
     "output_type": "execute_result"
    }
   ],
   "source": [
    "print_answer_counts(employee_it, 89)"
   ]
  },
  {
   "cell_type": "code",
   "execution_count": 94,
   "metadata": {},
   "outputs": [
    {
     "data": {
      "image/png": "[encoded data removed]",
      "text/plain": [
       "<Figure size 720x432 with 1 Axes>"
      ]
     },
     "metadata": {
      "needs_background": "light"
     },
     "output_type": "display_data"
    }
   ],
   "source": [
    "import matplotlib.pyplot as plt\n",
    "\n",
    "# Define the categories and their corresponding counts\n",
    "categories = ['White', '-1 (Missing)', 'More than one', 'Asian', 'Prefer not to answer', \n",
    "              'Black or African American', 'Caucasian', 'American Indian/Alaska Native', \n",
    "              'White Hispanic', 'Hispanic']\n",
    "\n",
    "counts = [741, 388, 30, 25, 25, 10, 1, 1, 1, 1]\n",
    "\n",
    "# Create the figure and axis object\n",
    "fig, ax = plt.subplots(figsize=(10, 6))\n",
    "\n",
    "# Create the bar chart\n",
    "ax.barh(categories, counts, color='skyblue')\n",
    "\n",
    "# Add labels and title\n",
    "ax.set_xlabel('Count')\n",
    "ax.set_title('Distribution of Race or Ethnicity (QuestionID 89)')\n",
    "\n",
    "# Add data labels on the bars\n",
    "for i, count in enumerate(counts):\n",
    "    ax.text(count + 10, i, str(count), va='center')\n",
    "\n",
    "# Invert the y-axis to have the highest count on top\n",
    "ax.invert_yaxis()\n",
    "\n",
    "# Show the plot\n",
    "plt.tight_layout()\n",
    "plt.show()\n"
   ]
  },
  {
   "cell_type": "code",
   "execution_count": 74,
   "metadata": {},
   "outputs": [
    {
     "name": "stdout",
     "output_type": "stream",
     "text": [
      "Value counts for QuestionID 33:\n",
      "Yes           625\n",
      "No            445\n",
      "Possibly      247\n",
      "Don't Know     98\n",
      "Maybe          56\n",
      "Name: AnswerText, dtype: int64\n"
     ]
    },
    {
     "data": {
      "image/png": "[encoded data removed]",
      "text/plain": [
       "<Figure size 720x432 with 1 Axes>"
      ]
     },
     "metadata": {
      "needs_background": "light"
     },
     "output_type": "display_data"
    }
   ],
   "source": [
    "plt.figure(figsize=(10, 6))\n",
    "mental_illness_it = print_answer_counts(employee_it, 33)\n",
    "\n",
    "bars = plt.bar(mental_illness_it.index, mental_illness_it.values, color='green')\n",
    "\n",
    "\n",
    "# Add titles and labels\n",
    "plt.title('Employees in IT with Mental Illness')\n",
    "plt.xlabel('Answer Text')\n",
    "plt.ylabel('Count')\n",
    "\n",
    "# Show the plot\n",
    "plt.xticks(rotation=45)  # Rotate x-axis labels for better readability\n",
    "plt.tight_layout()  # Adjust layout\n",
    "# Create a legend\n",
    "\n",
    "plt.show()"
   ]
  },
  {
   "cell_type": "code",
   "execution_count": 75,
   "metadata": {},
   "outputs": [
    {
     "name": "stdout",
     "output_type": "stream",
     "text": [
      "Value counts for QuestionID 7:\n",
      "1    891\n",
      "0    580\n",
      "Name: AnswerText, dtype: int64\n"
     ]
    },
    {
     "data": {
      "image/png": "[encoded data removed]",
      "text/plain": [
       "<Figure size 720x432 with 1 Axes>"
      ]
     },
     "metadata": {
      "needs_background": "light"
     },
     "output_type": "display_data"
    }
   ],
   "source": [
    "plt.figure(figsize=(10, 6))\n",
    "gender_it = print_answer_counts(employee_it, 7)\n",
    "\n",
    "bars = plt.bar(gender_it.index, gender_it.values, color='violet')\n",
    "\n",
    "\n",
    "# Add titles and labels\n",
    "plt.title('Have you ever sought treatment for mental disorder from a professional?')\n",
    "plt.xlabel('Answer Text')\n",
    "plt.ylabel('Count')\n",
    "\n",
    "# Show the plot\n",
    "plt.xticks(rotation=45)  # Rotate x-axis labels for better readability\n",
    "plt.tight_layout()  # Adjust layout\n",
    "plt.legend()\n",
    "\n",
    "plt.show()"
   ]
  },
  {
   "cell_type": "code",
   "execution_count": 76,
   "metadata": {},
   "outputs": [
    {
     "name": "stdout",
     "output_type": "stream",
     "text": [
      "Value counts for QuestionID 58:\n",
      "0    831\n",
      "1    392\n",
      "Name: AnswerText, dtype: int64\n"
     ]
    },
    {
     "data": {
      "image/png": "[encoded data removed]",
      "text/plain": [
       "<Figure size 720x432 with 1 Axes>"
      ]
     },
     "metadata": {
      "needs_background": "light"
     },
     "output_type": "display_data"
    }
   ],
   "source": [
    "plt.figure(figsize=(10, 6))\n",
    "gender_it = print_answer_counts(employee_it, 58)\n",
    "\n",
    "bars = plt.bar(gender_it.index, gender_it.values, color='green')\n",
    "\n",
    "\n",
    "# Add titles and labels\n",
    "plt.title('Have you ever discussed your mental health with your employer?')\n",
    "plt.xlabel('Answer Text')\n",
    "plt.ylabel('Count')\n",
    "\n",
    "# Show the plot\n",
    "plt.xticks(rotation=45)  # Rotate x-axis labels for better readability\n",
    "plt.tight_layout()  # Adjust layout\n",
    "# Create a legend\n",
    "\n",
    "plt.show()"
   ]
  },
  {
   "cell_type": "code",
   "execution_count": 77,
   "metadata": {},
   "outputs": [
    {
     "name": "stdout",
     "output_type": "stream",
     "text": [
      "Value counts for QuestionID 104:\n",
      "Maybe    116\n",
      "No        77\n",
      "Yes       55\n",
      "Name: AnswerText, dtype: int64\n"
     ]
    },
    {
     "data": {
      "image/png": "[encoded data removed]",
      "text/plain": [
       "<Figure size 720x432 with 1 Axes>"
      ]
     },
     "metadata": {
      "needs_background": "light"
     },
     "output_type": "display_data"
    }
   ],
   "source": [
    "plt.figure(figsize=(10, 6))\n",
    "gender_it = print_answer_counts(employee_it, 104)\n",
    "\n",
    "bars = plt.bar(gender_it.index, gender_it.values, color='pink')\n",
    "\n",
    "\n",
    "# Add titles and labels\n",
    "plt.title('Do you think that discussing a mental health disorder with your employer would have negative consequences?')\n",
    "plt.xlabel('Answer Text')\n",
    "plt.ylabel('Count')\n",
    "\n",
    "# Show the plot\n",
    "plt.xticks(rotation=45)  # Rotate x-axis labels for better readability\n",
    "plt.tight_layout()  # Adjust layout\n",
    "# Create a legend\n",
    "\n",
    "plt.show()"
   ]
  },
  {
   "cell_type": "code",
   "execution_count": 78,
   "metadata": {},
   "outputs": [
    {
     "name": "stdout",
     "output_type": "stream",
     "text": [
      "Value counts for QuestionID 113:\n",
      "Yes, I think it would         110\n",
      "Maybe                          90\n",
      "No, I don't think it would     30\n",
      "Yes, it has                    16\n",
      "No, it has not                  2\n",
      "Name: AnswerText, dtype: int64\n"
     ]
    },
    {
     "data": {
      "image/png": "[encoded data removed]",
      "text/plain": [
       "<Figure size 720x432 with 1 Axes>"
      ]
     },
     "metadata": {
      "needs_background": "light"
     },
     "output_type": "display_data"
    }
   ],
   "source": [
    "plt.figure(figsize=(10, 6))\n",
    "gender_it = print_answer_counts(employee_it, 113)\n",
    "\n",
    "bars = plt.bar(gender_it.index, gender_it.values, color='blue')\n",
    "\n",
    "\n",
    "# Add titles and labels\n",
    "plt.title('Do you feel that being identified as a person with a mental health issue would hurt your career?')\n",
    "plt.xlabel('Answer Text')\n",
    "plt.ylabel('Count')\n",
    "\n",
    "# Show the plot\n",
    "plt.xticks(rotation=45)  # Rotate x-axis labels for better readability\n",
    "plt.tight_layout()  # Adjust layout\n",
    "# Create a legend\n",
    "\n",
    "plt.show()"
   ]
  },
  {
   "cell_type": "code",
   "execution_count": 79,
   "metadata": {},
   "outputs": [
    {
     "name": "stdout",
     "output_type": "stream",
     "text": [
      "Correlation between Family History and Individual Mental Illness: 0.50\n"
     ]
    }
   ],
   "source": [
    "import numpy as np\n",
    "\n",
    "# Filter 'Yes' and 'No' answers for both questions\n",
    "df_family_illness = df_answer[df_answer['QuestionID'] == 6][['UserID', 'AnswerText']]\n",
    "df_individual_illness = df_answer[df_answer['QuestionID'] == 33][['UserID', 'AnswerText']]\n",
    "\n",
    "# Merge the two DataFrames on EmployeeID\n",
    "merged_df = pd.merge(df_family_illness, df_individual_illness, on='UserID', suffixes=('_family', '_individual'))\n",
    "\n",
    "# Convert 'Yes' and 'No' to 1 and 0 for both columns\n",
    "merged_df['AnswerText_family'] = merged_df['AnswerText_family'].map({'Yes': 1, 'No': 0})\n",
    "merged_df['AnswerText_individual'] = merged_df['AnswerText_individual'].map({'Yes': 1, 'No': 0})\n",
    "\n",
    "# Calculate the correlation between the two columns\n",
    "correlation = merged_df['AnswerText_family'].corr(merged_df['AnswerText_individual'])\n",
    "\n",
    "# Print the correlation result\n",
    "print(f'Correlation between Family History and Individual Mental Illness: {correlation:.2f}')\n"
   ]
  },
  {
   "cell_type": "markdown",
   "metadata": {},
   "source": [
    "## Employer in IT"
   ]
  },
  {
   "cell_type": "code",
   "execution_count": 80,
   "metadata": {},
   "outputs": [
    {
     "name": "stdout",
     "output_type": "stream",
     "text": [
      "Value counts for QuestionID 9:\n",
      "1     2888\n",
      "0      826\n",
      "-1     504\n",
      "Name: AnswerText, dtype: int64\n"
     ]
    },
    {
     "data": {
      "text/plain": [
       "1     2888\n",
       "0      826\n",
       "-1     504\n",
       "Name: AnswerText, dtype: int64"
      ]
     },
     "execution_count": 80,
     "metadata": {},
     "output_type": "execute_result"
    }
   ],
   "source": [
    "print_answer_counts(df_answer, 9)"
   ]
  },
  {
   "cell_type": "code",
   "execution_count": 81,
   "metadata": {},
   "outputs": [
    {
     "data": {
      "text/html": [
       "<div>\n",
       "<style scoped>\n",
       "    .dataframe tbody tr th:only-of-type {\n",
       "        vertical-align: middle;\n",
       "    }\n",
       "\n",
       "    .dataframe tbody tr th {\n",
       "        vertical-align: top;\n",
       "    }\n",
       "\n",
       "    .dataframe thead th {\n",
       "        text-align: right;\n",
       "    }\n",
       "</style>\n",
       "<table border=\"1\" class=\"dataframe\">\n",
       "  <thead>\n",
       "    <tr style=\"text-align: right;\">\n",
       "      <th></th>\n",
       "      <th>AnswerText</th>\n",
       "      <th>SurveyID</th>\n",
       "      <th>UserID</th>\n",
       "      <th>QuestionID</th>\n",
       "    </tr>\n",
       "  </thead>\n",
       "  <tbody>\n",
       "    <tr>\n",
       "      <th>0</th>\n",
       "      <td>37</td>\n",
       "      <td>2014</td>\n",
       "      <td>1</td>\n",
       "      <td>1</td>\n",
       "    </tr>\n",
       "    <tr>\n",
       "      <th>2</th>\n",
       "      <td>32</td>\n",
       "      <td>2014</td>\n",
       "      <td>3</td>\n",
       "      <td>1</td>\n",
       "    </tr>\n",
       "    <tr>\n",
       "      <th>3</th>\n",
       "      <td>31</td>\n",
       "      <td>2014</td>\n",
       "      <td>4</td>\n",
       "      <td>1</td>\n",
       "    </tr>\n",
       "    <tr>\n",
       "      <th>4</th>\n",
       "      <td>31</td>\n",
       "      <td>2014</td>\n",
       "      <td>5</td>\n",
       "      <td>1</td>\n",
       "    </tr>\n",
       "    <tr>\n",
       "      <th>5</th>\n",
       "      <td>33</td>\n",
       "      <td>2014</td>\n",
       "      <td>6</td>\n",
       "      <td>1</td>\n",
       "    </tr>\n",
       "  </tbody>\n",
       "</table>\n",
       "</div>"
      ],
      "text/plain": [
       "  AnswerText  SurveyID  UserID  QuestionID\n",
       "0         37      2014       1           1\n",
       "2         32      2014       3           1\n",
       "3         31      2014       4           1\n",
       "4         31      2014       5           1\n",
       "5         33      2014       6           1"
      ]
     },
     "execution_count": 81,
     "metadata": {},
     "output_type": "execute_result"
    }
   ],
   "source": [
    "employer_it_one = (df_answer['QuestionID'] == 9) & (df_answer['AnswerText'] == '1')\n",
    "employer_it = df_answer[employer_it_one]\n",
    "emps_in_it = employer_it['UserID'].unique()\n",
    "employer_it = df_answer[df_answer['UserID'].isin(emps_in_it)]\n",
    "employer_it.head()"
   ]
  },
  {
   "cell_type": "code",
   "execution_count": 82,
   "metadata": {},
   "outputs": [
    {
     "data": {
      "text/html": [
       "<div>\n",
       "<style scoped>\n",
       "    .dataframe tbody tr th:only-of-type {\n",
       "        vertical-align: middle;\n",
       "    }\n",
       "\n",
       "    .dataframe tbody tr th {\n",
       "        vertical-align: top;\n",
       "    }\n",
       "\n",
       "    .dataframe thead th {\n",
       "        text-align: right;\n",
       "    }\n",
       "</style>\n",
       "<table border=\"1\" class=\"dataframe\">\n",
       "  <thead>\n",
       "    <tr style=\"text-align: right;\">\n",
       "      <th></th>\n",
       "      <th>AnswerText</th>\n",
       "      <th>SurveyID</th>\n",
       "      <th>UserID</th>\n",
       "      <th>QuestionID</th>\n",
       "    </tr>\n",
       "  </thead>\n",
       "  <tbody>\n",
       "    <tr>\n",
       "      <th>1</th>\n",
       "      <td>44</td>\n",
       "      <td>2014</td>\n",
       "      <td>2</td>\n",
       "      <td>1</td>\n",
       "    </tr>\n",
       "    <tr>\n",
       "      <th>12</th>\n",
       "      <td>42</td>\n",
       "      <td>2014</td>\n",
       "      <td>13</td>\n",
       "      <td>1</td>\n",
       "    </tr>\n",
       "    <tr>\n",
       "      <th>23</th>\n",
       "      <td>41</td>\n",
       "      <td>2014</td>\n",
       "      <td>24</td>\n",
       "      <td>1</td>\n",
       "    </tr>\n",
       "    <tr>\n",
       "      <th>25</th>\n",
       "      <td>35</td>\n",
       "      <td>2014</td>\n",
       "      <td>26</td>\n",
       "      <td>1</td>\n",
       "    </tr>\n",
       "    <tr>\n",
       "      <th>58</th>\n",
       "      <td>26</td>\n",
       "      <td>2014</td>\n",
       "      <td>59</td>\n",
       "      <td>1</td>\n",
       "    </tr>\n",
       "  </tbody>\n",
       "</table>\n",
       "</div>"
      ],
      "text/plain": [
       "   AnswerText  SurveyID  UserID  QuestionID\n",
       "1          44      2014       2           1\n",
       "12         42      2014      13           1\n",
       "23         41      2014      24           1\n",
       "25         35      2014      26           1\n",
       "58         26      2014      59           1"
      ]
     },
     "execution_count": 82,
     "metadata": {},
     "output_type": "execute_result"
    }
   ],
   "source": [
    "employer_it_zero = (df_answer['QuestionID'] == 9) & (df_answer['AnswerText'] == '0')\n",
    "employer_nonit = df_answer[employer_it_zero]\n",
    "emps_non_it = employer_nonit['UserID'].unique()\n",
    "employer_nonit = df_answer[df_answer['UserID'].isin(emps_non_it)]\n",
    "employer_nonit.head()"
   ]
  },
  {
   "cell_type": "code",
   "execution_count": 83,
   "metadata": {},
   "outputs": [
    {
     "data": {
      "text/html": [
       "<div>\n",
       "<style scoped>\n",
       "    .dataframe tbody tr th:only-of-type {\n",
       "        vertical-align: middle;\n",
       "    }\n",
       "\n",
       "    .dataframe tbody tr th {\n",
       "        vertical-align: top;\n",
       "    }\n",
       "\n",
       "    .dataframe thead th {\n",
       "        text-align: right;\n",
       "    }\n",
       "</style>\n",
       "<table border=\"1\" class=\"dataframe\">\n",
       "  <thead>\n",
       "    <tr style=\"text-align: right;\">\n",
       "      <th></th>\n",
       "      <th>AnswerText</th>\n",
       "      <th>SurveyID</th>\n",
       "      <th>UserID</th>\n",
       "      <th>QuestionID</th>\n",
       "    </tr>\n",
       "  </thead>\n",
       "  <tbody>\n",
       "    <tr>\n",
       "      <th>32763</th>\n",
       "      <td>43</td>\n",
       "      <td>2016</td>\n",
       "      <td>1264</td>\n",
       "      <td>1</td>\n",
       "    </tr>\n",
       "    <tr>\n",
       "      <th>32769</th>\n",
       "      <td>30</td>\n",
       "      <td>2016</td>\n",
       "      <td>1270</td>\n",
       "      <td>1</td>\n",
       "    </tr>\n",
       "    <tr>\n",
       "      <th>32778</th>\n",
       "      <td>25</td>\n",
       "      <td>2016</td>\n",
       "      <td>1279</td>\n",
       "      <td>1</td>\n",
       "    </tr>\n",
       "    <tr>\n",
       "      <th>32784</th>\n",
       "      <td>38</td>\n",
       "      <td>2016</td>\n",
       "      <td>1285</td>\n",
       "      <td>1</td>\n",
       "    </tr>\n",
       "    <tr>\n",
       "      <th>32793</th>\n",
       "      <td>37</td>\n",
       "      <td>2016</td>\n",
       "      <td>1294</td>\n",
       "      <td>1</td>\n",
       "    </tr>\n",
       "  </tbody>\n",
       "</table>\n",
       "</div>"
      ],
      "text/plain": [
       "      AnswerText  SurveyID  UserID  QuestionID\n",
       "32763         43      2016    1264           1\n",
       "32769         30      2016    1270           1\n",
       "32778         25      2016    1279           1\n",
       "32784         38      2016    1285           1\n",
       "32793         37      2016    1294           1"
      ]
     },
     "execution_count": 83,
     "metadata": {},
     "output_type": "execute_result"
    }
   ],
   "source": [
    "employer_it_null = (df_answer['QuestionID'] == 9) & (df_answer['AnswerText'] == '-1')\n",
    "employer_null_it = df_answer[employer_it_null]\n",
    "emps_null_it = employer_null_it['UserID'].unique()\n",
    "employer_null_it = df_answer[df_answer['UserID'].isin(emps_null_it)]\n",
    "employer_null_it.head()"
   ]
  },
  {
   "cell_type": "code",
   "execution_count": 84,
   "metadata": {},
   "outputs": [
    {
     "name": "stdout",
     "output_type": "stream",
     "text": [
      "Value counts for QuestionID 10:\n",
      "Yes                               1326\n",
      "No                                 623\n",
      "I don't know                       496\n",
      "Don't know                         335\n",
      "Not eligible for coverage / NA     108\n",
      "Name: AnswerText, dtype: int64\n",
      "\n",
      "Value counts for QuestionID 10:\n",
      "Yes                               418\n",
      "I don't know                      162\n",
      "No                                133\n",
      "Don't know                         73\n",
      "Not eligible for coverage / NA     40\n",
      "Name: AnswerText, dtype: int64\n",
      "\n",
      "Value counts for QuestionID 10:\n",
      "-1    504\n",
      "Name: AnswerText, dtype: int64\n"
     ]
    },
    {
     "data": {
      "text/plain": [
       "-1    504\n",
       "Name: AnswerText, dtype: int64"
      ]
     },
     "execution_count": 84,
     "metadata": {},
     "output_type": "execute_result"
    }
   ],
   "source": [
    "# Does your employer provide mental health benefits?\n",
    "print_answer_counts(employer_it, 10)\n",
    "print()  # Print a newline for better readability\n",
    "print_answer_counts(employer_nonit, 10)\n",
    "print()  # Print a newline for better readability\n",
    "print_answer_counts(employer_null_it, 10)\n"
   ]
  },
  {
   "cell_type": "code",
   "execution_count": 85,
   "metadata": {},
   "outputs": [
    {
     "data": {
      "image/png": "[encoded data removed]",
      "text/plain": [
       "<Figure size 720x432 with 1 Axes>"
      ]
     },
     "metadata": {
      "needs_background": "light"
     },
     "output_type": "display_data"
    }
   ],
   "source": [
    "# Define the labels for the x-axis (consistent with the value counts from QuestionID 10)\n",
    "labels = ['Yes', 'No', 'I don\\'t know', 'Don\\'t know', 'Not eligible for coverage / NA']\n",
    "\n",
    "# Assume this function returns a list of counts for each of the categories\n",
    "def print_answer_counts(data, n):\n",
    "    # Count the number of occurrences for each category and pad with 0 if needed\n",
    "    counts = data['AnswerText'].value_counts()\n",
    "    # Return counts in the same order as the labels (including missing categories as 0)\n",
    "    return [counts.get(label, 0) for label in labels]\n",
    "\n",
    "# Create a figure and axis object\n",
    "fig, ax = plt.subplots(figsize=(10, 6))\n",
    "\n",
    "# Plot the data for each dataset\n",
    "ax.bar(labels, print_answer_counts(employer_it, 10), label='IT Professionals')\n",
    "ax.bar(labels, print_answer_counts(employer_nonit, 10), label='Non-IT Professionals')\n",
    "ax.bar(labels, print_answer_counts(employer_null_it, 10), label='Null/Missing Responses')\n",
    "\n",
    "# Set the title and labels\n",
    "ax.set_title('Does Your Employer Provide Mental Health Benefits?')\n",
    "ax.set_xlabel('Response')\n",
    "ax.set_ylabel('Count')\n",
    "\n",
    "# Add a legend\n",
    "ax.legend()\n",
    "\n",
    "# Show the plot\n",
    "plt.show()\n"
   ]
  },
  {
   "cell_type": "code",
   "execution_count": 86,
   "metadata": {},
   "outputs": [
    {
     "name": "stdout",
     "output_type": "stream",
     "text": [
      "\n",
      "\n"
     ]
    },
    {
     "data": {
      "text/plain": [
       "[1596, 1562, 733, 0, 0]"
      ]
     },
     "execution_count": 86,
     "metadata": {},
     "output_type": "execute_result"
    }
   ],
   "source": [
    "# Would you bring up a mental health issue with a potential employer in an interview? \n",
    "print_answer_counts(employer_it, 12)\n",
    "print()  # Print a newline for better readability\n",
    "print_answer_counts(employer_nonit, 12)\n",
    "print()  # Print a newline for better readability\n",
    "print_answer_counts(employer_null_it, 12)\n"
   ]
  },
  {
   "cell_type": "code",
   "execution_count": 87,
   "metadata": {},
   "outputs": [
    {
     "name": "stdout",
     "output_type": "stream",
     "text": [
      "\n",
      "\n"
     ]
    },
    {
     "data": {
      "text/plain": [
       "[1596, 1562, 733, 0, 0]"
      ]
     },
     "execution_count": 87,
     "metadata": {},
     "output_type": "execute_result"
    }
   ],
   "source": [
    "# Has your employer ever formally discussed mental health (for example, as part of a wellness campaign or other official communication)?\n",
    "print_answer_counts(employer_it, 15)\n",
    "print()  # Print a newline for better readability\n",
    "print_answer_counts(employer_nonit, 15)\n",
    "print()  # Print a newline for better readability\n",
    "print_answer_counts(employer_null_it, 15)"
   ]
  },
  {
   "cell_type": "code",
   "execution_count": 88,
   "metadata": {},
   "outputs": [
    {
     "name": "stdout",
     "output_type": "stream",
     "text": [
      "\n",
      "\n"
     ]
    },
    {
     "data": {
      "text/plain": [
       "[1596, 1562, 733, 0, 0]"
      ]
     },
     "execution_count": 88,
     "metadata": {},
     "output_type": "execute_result"
    }
   ],
   "source": [
    "# Did your previous employers provide resources to learn more about mental health disorders and how to seek help?\n",
    "print_answer_counts(employer_it, 26)\n",
    "print()  # Print a newline for better readability\n",
    "print_answer_counts(employer_nonit, 26)\n",
    "print()  # Print a newline for better readability\n",
    "print_answer_counts(employer_null_it, 26)"
   ]
  },
  {
   "cell_type": "code",
   "execution_count": 89,
   "metadata": {},
   "outputs": [
    {
     "name": "stdout",
     "output_type": "stream",
     "text": [
      "\n",
      "\n"
     ]
    },
    {
     "data": {
      "text/plain": [
       "[1596, 1562, 733, 0, 0]"
      ]
     },
     "execution_count": 89,
     "metadata": {},
     "output_type": "execute_result"
    }
   ],
   "source": [
    "print_answer_counts(employer_it, 58)\n",
    "print()  # Print a newline for better readability\n",
    "print_answer_counts(employer_nonit, 58)\n",
    "print()  # Print a newline for better readability\n",
    "print_answer_counts(employer_null_it, 58)"
   ]
  },
  {
   "cell_type": "code",
   "execution_count": 90,
   "metadata": {},
   "outputs": [
    {
     "name": "stdout",
     "output_type": "stream",
     "text": [
      "\n",
      "\n"
     ]
    },
    {
     "data": {
      "text/plain": [
       "[1596, 1562, 733, 0, 0]"
      ]
     },
     "execution_count": 90,
     "metadata": {},
     "output_type": "execute_result"
    }
   ],
   "source": [
    "# Overall, how much importance does your employer place on mental health?\n",
    "print_answer_counts(employer_it, 65)\n",
    "print()  # Print a newline for better readability\n",
    "print_answer_counts(employer_nonit, 65)\n",
    "print()  # Print a newline for better readability\n",
    "print_answer_counts(employer_null_it, 65)"
   ]
  },
  {
   "cell_type": "code",
   "execution_count": 91,
   "metadata": {},
   "outputs": [
    {
     "data": {
      "image/png": "[encoded data removed]",
      "text/plain": [
       "<Figure size 720x432 with 1 Axes>"
      ]
     },
     "metadata": {
      "needs_background": "light"
     },
     "output_type": "display_data"
    }
   ],
   "source": [
    "import matplotlib.pyplot as plt\n",
    "import numpy as np\n",
    "\n",
    "# Define the ratings (scale from 0 to 10)\n",
    "labels = [str(i) for i in range(11)]  # ['0', '1', ..., '10']\n",
    "\n",
    "# Data for IT and Non-IT Professionals\n",
    "it_counts = [54, 27, 62, 102, 79, 231, 99, 138, 114, 31, 37]  # Counts for IT professionals\n",
    "nonit_counts = [33, 21, 33, 34, 25, 81, 34, 41, 19, 9, 4]  # Counts for Non-IT professionals\n",
    "null_counts = [217]  # Null/Missing Responses (handled separately)\n",
    "\n",
    "# Create the figure and axis object\n",
    "fig, ax = plt.subplots(figsize=(10, 6))\n",
    "\n",
    "# Create bar width and x positions\n",
    "width = 0.35\n",
    "x = np.arange(len(labels))  # Positions for the ratings\n",
    "\n",
    "# Plot stacked bars for IT and Non-IT\n",
    "rects1 = ax.bar(x, it_counts, width, label='IT Professionals', color='skyblue')\n",
    "rects2 = ax.bar(x, nonit_counts, width, bottom=it_counts, label='Non-IT Professionals', color='lightgreen')\n",
    "\n",
    "# Add labels and title\n",
    "ax.set_xlabel('Importance Rating (0 to 10)')\n",
    "ax.set_ylabel('Count of Responses')\n",
    "ax.set_title('Importance Placed on Mental Health by Employers')\n",
    "ax.set_xticks(x)\n",
    "ax.set_xticklabels(labels)\n",
    "\n",
    "# Add a legend\n",
    "ax.legend()\n",
    "\n",
    "# Function to add data labels on the bars\n",
    "def add_labels(rects):\n",
    "    for rect in rects:\n",
    "        height = rect.get_height()\n",
    "        if height > 0:  # Add labels only for bars with height greater than 0\n",
    "            ax.annotate(f'{int(height)}',\n",
    "                        xy=(rect.get_x() + rect.get_width() / 2, rect.get_y() + height / 2),\n",
    "                        xytext=(0, 0),\n",
    "                        textcoords=\"offset points\",\n",
    "                        ha='center', va='center')\n",
    "\n",
    "# Add the labels on the bars\n",
    "add_labels(rects1)\n",
    "add_labels(rects2)\n",
    "\n",
    "# Handle Null/Missing responses separately\n",
    "ax.text(len(labels), null_counts[0] // 2, f'Null: {null_counts[0]}', ha='center', va='center', fontsize=12, color='red')\n",
    "\n",
    "# Show the plot\n",
    "plt.tight_layout()\n",
    "plt.show()\n"
   ]
  },
  {
   "cell_type": "code",
   "execution_count": 92,
   "metadata": {},
   "outputs": [
    {
     "name": "stdout",
     "output_type": "stream",
     "text": [
      "\n",
      "\n"
     ]
    },
    {
     "data": {
      "text/plain": [
       "[1236, 2158, 129, 134, 85, 143, 51, 65, 51, 14, 23]"
      ]
     },
     "execution_count": 92,
     "metadata": {},
     "output_type": "execute_result"
    }
   ],
   "source": [
    "# Do you think that discussing a physical health issue with your employer would have negative consequences?\n",
    "print_answer_counts(employer_it, 90)\n",
    "print()  # Print a newline for better readability\n",
    "print_answer_counts(employer_nonit, 90)\n",
    "print()  # Print a newline for better readability\n",
    "print_answer_counts(employer_null_it, 90)"
   ]
  },
  {
   "cell_type": "code",
   "execution_count": 93,
   "metadata": {},
   "outputs": [
    {
     "data": {
      "image/png": "[encoded data removed]",
      "text/plain": [
       "<Figure size 720x432 with 1 Axes>"
      ]
     },
     "metadata": {
      "needs_background": "light"
     },
     "output_type": "display_data"
    }
   ],
   "source": [
    "import matplotlib.pyplot as plt\n",
    "import numpy as np\n",
    "\n",
    "# Labels for the x-axis (response categories)\n",
    "labels = ['No', 'Maybe', 'Yes', 'Missing']\n",
    "\n",
    "# Data for IT, Non-IT, and Null/Missing Responses\n",
    "it_counts = [1427, 407, 80, 0]  # No, Maybe, Yes, Missing\n",
    "nonit_counts = [336, 134, 22, 0]  # No, Maybe, Yes, Missing\n",
    "null_counts = [0, 0, 0, 287]  # Only Missing responses\n",
    "\n",
    "# Set the positions for the bars\n",
    "x = np.arange(len(labels))  # Label locations\n",
    "width = 0.2  # Width of the bars\n",
    "\n",
    "# Create the plot\n",
    "fig, ax = plt.subplots(figsize=(10, 6))\n",
    "\n",
    "# Plot each group of bars\n",
    "rects1 = ax.bar(x - width, it_counts, width, label='IT Professionals', color='skyblue')\n",
    "rects2 = ax.bar(x, nonit_counts, width, label='Non-IT Professionals', color='lightgreen')\n",
    "rects3 = ax.bar(x + width, null_counts, width, label='Null/Missing Responses', color='lightcoral')\n",
    "\n",
    "# Add labels and title\n",
    "ax.set_xlabel('Response')\n",
    "ax.set_ylabel('Count')\n",
    "ax.set_title('Negative Consequences of Discussing Physical Health with Employer')\n",
    "ax.set_xticks(x)\n",
    "ax.set_xticklabels(labels)\n",
    "\n",
    "# Add a legend\n",
    "ax.legend()\n",
    "\n",
    "# Function to add counts above the bars\n",
    "def add_labels(rects):\n",
    "    for rect in rects:\n",
    "        height = rect.get_height()\n",
    "        ax.annotate(f'{int(height)}',\n",
    "                    xy=(rect.get_x() + rect.get_width() / 2, height),\n",
    "                    xytext=(0, 3),  # 3 points vertical offset\n",
    "                    textcoords=\"offset points\",\n",
    "                    ha='center', va='bottom')\n",
    "\n",
    "# Add the counts on top of each bar\n",
    "add_labels(rects1)\n",
    "add_labels(rects2)\n",
    "add_labels(rects3)\n",
    "\n",
    "# Show the plot\n",
    "plt.tight_layout()\n",
    "plt.show()\n"
   ]
  },
  {
   "cell_type": "code",
   "execution_count": null,
   "metadata": {},
   "outputs": [],
   "source": [
    "\n"
   ]
  }
 ],
 "metadata": {
  "kernelspec": {
   "display_name": "Python 3",
   "language": "python",
   "name": "python3"
  },
  "language_info": {
   "codemirror_mode": {
    "name": "ipython",
    "version": 3
   },
   "file_extension": ".py",
   "mimetype": "text/x-python",
   "name": "python",
   "nbconvert_exporter": "python",
   "pygments_lexer": "ipython3",
   "version": "3.8.5"
  }
 },
 "nbformat": 4,
 "nbformat_minor": 2
}
